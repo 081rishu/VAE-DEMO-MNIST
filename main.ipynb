{
 "cells": [
  {
   "cell_type": "code",
   "execution_count": 1,
   "metadata": {},
   "outputs": [],
   "source": [
    "import tensorflow as tf\n",
    "import numpy as np\n",
    "import matplotlib.pyplot as plt\n",
    "from tensorflow.keras.models import Model\n",
    "from tensorflow.keras.layers import Layer\n",
    "from tensorflow.keras.layers import (Reshape, Conv2DTranspose, Add, Conv2D, Dense,\n",
    "                                     Flatten, InputLayer, BatchNormalization, Input)\n",
    "from tensorflow.keras.optimizers import Adam"
   ]
  },
  {
   "cell_type": "markdown",
   "metadata": {},
   "source": [
    "## Data Preperation"
   ]
  },
  {
   "cell_type": "code",
   "execution_count": 3,
   "metadata": {},
   "outputs": [],
   "source": [
    "(x_train, _), (x_test, _) = tf.keras.datasets.mnist.load_data()\n",
    "mnist_digits = np.concatenate([x_train, x_test], axis = 0)\n",
    "mnist_digits = np.expand_dims(mnist_digits, -1).astype(\"float32\")/255"
   ]
  },
  {
   "cell_type": "code",
   "execution_count": 4,
   "metadata": {},
   "outputs": [],
   "source": [
    "dataset = tf.data.Dataset.from_tensor_slices(mnist_digits)"
   ]
  },
  {
   "cell_type": "code",
   "execution_count": 5,
   "metadata": {},
   "outputs": [],
   "source": [
    "BATCH_SIZE = 128\n",
    "LATENT_DIM = 2"
   ]
  },
  {
   "cell_type": "code",
   "execution_count": 7,
   "metadata": {},
   "outputs": [],
   "source": [
    "train_dataset = (\n",
    "    dataset\n",
    "    .shuffle(buffer_size = 1024, reshuffle_each_iteration = True)\n",
    "    .batch(BATCH_SIZE)\n",
    "    .prefetch(tf.data.AUTOTUNE)\n",
    ")"
   ]
  },
  {
   "cell_type": "code",
   "execution_count": 8,
   "metadata": {},
   "outputs": [
    {
     "data": {
      "text/plain": [
       "<PrefetchDataset shapes: (None, 28, 28, 1), types: tf.float32>"
      ]
     },
     "execution_count": 8,
     "metadata": {},
     "output_type": "execute_result"
    }
   ],
   "source": [
    "train_dataset"
   ]
  },
  {
   "cell_type": "markdown",
   "metadata": {},
   "source": [
    "## Model"
   ]
  },
  {
   "cell_type": "markdown",
   "metadata": {},
   "source": [
    "### Sampling"
   ]
  },
  {
   "cell_type": "code",
   "execution_count": 9,
   "metadata": {},
   "outputs": [],
   "source": [
    "class Sampling(Layer):\n",
    "    def call(sel, inputs):\n",
    "        mean, log_var = inputs\n",
    "        return mean + tf.math.exp(0.5*log_var)*tf.random.normal(shape = (tf.shape(mean)[0], tf.shape(mean)[1]))"
   ]
  },
  {
   "cell_type": "markdown",
   "metadata": {},
   "source": [
    "### Encoder"
   ]
  },
  {
   "cell_type": "code",
   "execution_count": 11,
   "metadata": {},
   "outputs": [
    {
     "name": "stdout",
     "output_type": "stream",
     "text": [
      "Model: \"encoder\"\n",
      "__________________________________________________________________________________________________\n",
      " Layer (type)                   Output Shape         Param #     Connected to                     \n",
      "==================================================================================================\n",
      " input_2 (InputLayer)           [(None, 28, 28, 1)]  0           []                               \n",
      "                                                                                                  \n",
      " conv2d (Conv2D)                (None, 14, 14, 32)   320         ['input_2[0][0]']                \n",
      "                                                                                                  \n",
      " conv2d_1 (Conv2D)              (None, 7, 7, 64)     18496       ['conv2d[0][0]']                 \n",
      "                                                                                                  \n",
      " flatten (Flatten)              (None, 3136)         0           ['conv2d_1[0][0]']               \n",
      "                                                                                                  \n",
      " dense (Dense)                  (None, 16)           50192       ['flatten[0][0]']                \n",
      "                                                                                                  \n",
      " dense_1 (Dense)                (None, 2)            34          ['dense[0][0]']                  \n",
      "                                                                                                  \n",
      " dense_2 (Dense)                (None, 2)            34          ['dense[0][0]']                  \n",
      "                                                                                                  \n",
      " sampling (Sampling)            (None, 2)            0           ['dense_1[0][0]',                \n",
      "                                                                  'dense_2[0][0]']                \n",
      "                                                                                                  \n",
      "==================================================================================================\n",
      "Total params: 69,076\n",
      "Trainable params: 69,076\n",
      "Non-trainable params: 0\n",
      "__________________________________________________________________________________________________\n"
     ]
    }
   ],
   "source": [
    "encoder_inputs = Input(shape = (28,28,1))\n",
    "\n",
    "x = Conv2D(32, 3, activation='relu', strides=2, padding='same')(encoder_inputs)\n",
    "x = Conv2D(64, 3, activation='relu', strides=2, padding='same')(x)\n",
    "\n",
    "x = Flatten()(x)\n",
    "x = Dense(16, activation='relu')(x)\n",
    "\n",
    "mean = Dense(LATENT_DIM)(x)\n",
    "log_var = Dense(LATENT_DIM)(x)\n",
    "\n",
    "z = Sampling()([mean, log_var])\n",
    "\n",
    "encoder_model = Model(encoder_inputs, [z,mean,log_var], name='encoder')\n",
    "encoder_model.summary()"
   ]
  },
  {
   "cell_type": "markdown",
   "metadata": {},
   "source": [
    "### Decoder"
   ]
  },
  {
   "cell_type": "code",
   "execution_count": 12,
   "metadata": {},
   "outputs": [
    {
     "name": "stdout",
     "output_type": "stream",
     "text": [
      "Model: \"decoder\"\n",
      "_________________________________________________________________\n",
      " Layer (type)                Output Shape              Param #   \n",
      "=================================================================\n",
      " input_3 (InputLayer)        [(None, 2)]               0         \n",
      "                                                                 \n",
      " dense_3 (Dense)             (None, 3136)              9408      \n",
      "                                                                 \n",
      " reshape (Reshape)           (None, 7, 7, 64)          0         \n",
      "                                                                 \n",
      " conv2d_transpose (Conv2DTra  (None, 14, 14, 64)       36928     \n",
      " nspose)                                                         \n",
      "                                                                 \n",
      " conv2d_transpose_1 (Conv2DT  (None, 28, 28, 32)       18464     \n",
      " ranspose)                                                       \n",
      "                                                                 \n",
      " conv2d_transpose_2 (Conv2DT  (None, 28, 28, 1)        289       \n",
      " ranspose)                                                       \n",
      "                                                                 \n",
      "=================================================================\n",
      "Total params: 65,089\n",
      "Trainable params: 65,089\n",
      "Non-trainable params: 0\n",
      "_________________________________________________________________\n"
     ]
    }
   ],
   "source": [
    "latent_inputs = Input(shape=(LATENT_DIM))\n",
    "\n",
    "x = Dense(7*7*64, activation='relu')(latent_inputs)\n",
    "x = Reshape((7,7,64))(x)\n",
    "\n",
    "x = Conv2DTranspose(64, 3, activation='relu', strides=2, padding='same')(x)\n",
    "x = Conv2DTranspose(32, 3, activation='relu', strides=2, padding='same')(x)\n",
    "\n",
    "decoder_output = Conv2DTranspose(1, 3, activation='sigmoid', padding='same')(x)\n",
    "decoder_model = Model(latent_inputs, decoder_output, name='decoder')\n",
    "decoder_model.summary()"
   ]
  },
  {
   "cell_type": "markdown",
   "metadata": {},
   "source": [
    "### Overall VAE Model"
   ]
  },
  {
   "cell_type": "code",
   "execution_count": 13,
   "metadata": {},
   "outputs": [
    {
     "name": "stdout",
     "output_type": "stream",
     "text": [
      "Model: \"vae\"\n",
      "_________________________________________________________________\n",
      " Layer (type)                Output Shape              Param #   \n",
      "=================================================================\n",
      " vae_input (InputLayer)      [(None, 28, 28, 1)]       0         \n",
      "                                                                 \n",
      " encoder (Functional)        [(None, 2),               69076     \n",
      "                              (None, 2),                         \n",
      "                              (None, 2)]                         \n",
      "                                                                 \n",
      " decoder (Functional)        (None, 28, 28, 1)         65089     \n",
      "                                                                 \n",
      "=================================================================\n",
      "Total params: 134,165\n",
      "Trainable params: 134,165\n",
      "Non-trainable params: 0\n",
      "_________________________________________________________________\n"
     ]
    }
   ],
   "source": [
    "vae_input = Input(shape=(28,28,1), name=\"vae_input\" )\n",
    "z,_,_ = encoder_model(vae_input)\n",
    "output = decoder_model(z)\n",
    "vae = Model(vae_input, output, name='vae')\n",
    "vae.summary()"
   ]
  },
  {
   "cell_type": "code",
   "execution_count": 15,
   "metadata": {},
   "outputs": [
    {
     "name": "stdout",
     "output_type": "stream",
     "text": [
      "<keras.engine.input_layer.InputLayer object at 0x0000024581EEF160>\n",
      "<keras.engine.functional.Functional object at 0x0000024581E91FA0>\n",
      "<keras.engine.functional.Functional object at 0x0000024581EA34F0>\n"
     ]
    }
   ],
   "source": [
    "for i in range(3):\n",
    "    print(vae.layers[i])"
   ]
  },
  {
   "cell_type": "markdown",
   "metadata": {},
   "source": [
    "## Training"
   ]
  },
  {
   "cell_type": "code",
   "execution_count": 16,
   "metadata": {},
   "outputs": [],
   "source": [
    "OPTIMIZER = Adam(learning_rate = 1e-3)\n",
    "EPOCHS = 20"
   ]
  },
  {
   "cell_type": "code",
   "execution_count": 17,
   "metadata": {},
   "outputs": [],
   "source": [
    "def custom_loss(y_true, y_pred, mean, log_var):\n",
    "\n",
    "    loss_rec = tf.reduce_mean(tf.reduce_sum(tf.keras.losses.binary_crossentropy(y_true, y_pred), axis = (1,2)))\n",
    "\n",
    "    loss_reg = -0.5*(1+log_var-tf.square(mean)-tf.exp(log_var))\n",
    "\n",
    "    return loss_rec+tf.reduce_mean(tf.reduce_sum(loss_reg, axis=1))"
   ]
  },
  {
   "cell_type": "code",
   "execution_count": 22,
   "metadata": {},
   "outputs": [],
   "source": [
    "@tf.function\n",
    "def training_block(x_batch):\n",
    "    with tf.GradientTape() as recorder:\n",
    "        z, mean, log_var= encoder_model(x_batch)\n",
    "        y_pred = decoder_model(z)\n",
    "        y_true = x_batch\n",
    "        loss = custom_loss(y_true, y_pred, mean, log_var)\n",
    "\n",
    "    partial_derivatives = recorder.gradient(loss, vae.trainable_weights)\n",
    "    OPTIMIZER.apply_gradients(zip(partial_derivatives, vae.trainable_weights))\n",
    "    return loss"
   ]
  },
  {
   "cell_type": "code",
   "execution_count": 23,
   "metadata": {},
   "outputs": [],
   "source": [
    "def custom_learn(epochs):\n",
    "    for epoch in range(1, epochs+1):\n",
    "        print('Training starts for epoch number {}'.format(epoch))\n",
    "\n",
    "        for step, x_batch in enumerate(train_dataset):\n",
    "            loss = training_block(x_batch)\n",
    "        print('Training Loss is : ', loss)\n",
    "    print('Trining Complete!!!')"
   ]
  },
  {
   "cell_type": "code",
   "execution_count": 24,
   "metadata": {},
   "outputs": [
    {
     "name": "stdout",
     "output_type": "stream",
     "text": [
      "Training starts for epoch number 1\n",
      "Training Loss is :  tf.Tensor(180.26564, shape=(), dtype=float32)\n",
      "Training starts for epoch number 2\n",
      "Training Loss is :  tf.Tensor(169.36844, shape=(), dtype=float32)\n",
      "Training starts for epoch number 3\n",
      "Training Loss is :  tf.Tensor(159.76198, shape=(), dtype=float32)\n",
      "Training starts for epoch number 4\n",
      "Training Loss is :  tf.Tensor(157.54752, shape=(), dtype=float32)\n",
      "Training starts for epoch number 5\n",
      "Training Loss is :  tf.Tensor(155.40848, shape=(), dtype=float32)\n",
      "Training starts for epoch number 6\n",
      "Training Loss is :  tf.Tensor(148.90096, shape=(), dtype=float32)\n",
      "Training starts for epoch number 7\n",
      "Training Loss is :  tf.Tensor(146.37741, shape=(), dtype=float32)\n",
      "Training starts for epoch number 8\n",
      "Training Loss is :  tf.Tensor(152.75414, shape=(), dtype=float32)\n",
      "Training starts for epoch number 9\n",
      "Training Loss is :  tf.Tensor(153.19708, shape=(), dtype=float32)\n",
      "Training starts for epoch number 10\n",
      "Training Loss is :  tf.Tensor(152.50475, shape=(), dtype=float32)\n",
      "Training starts for epoch number 11\n",
      "Training Loss is :  tf.Tensor(151.73344, shape=(), dtype=float32)\n",
      "Training starts for epoch number 12\n",
      "Training Loss is :  tf.Tensor(153.71281, shape=(), dtype=float32)\n",
      "Training starts for epoch number 13\n",
      "Training Loss is :  tf.Tensor(148.07603, shape=(), dtype=float32)\n",
      "Training starts for epoch number 14\n",
      "Training Loss is :  tf.Tensor(151.01053, shape=(), dtype=float32)\n",
      "Training starts for epoch number 15\n",
      "Training Loss is :  tf.Tensor(153.3673, shape=(), dtype=float32)\n",
      "Training starts for epoch number 16\n",
      "Training Loss is :  tf.Tensor(153.71097, shape=(), dtype=float32)\n",
      "Training starts for epoch number 17\n",
      "Training Loss is :  tf.Tensor(147.23949, shape=(), dtype=float32)\n",
      "Training starts for epoch number 18\n",
      "Training Loss is :  tf.Tensor(152.56886, shape=(), dtype=float32)\n",
      "Training starts for epoch number 19\n",
      "Training Loss is :  tf.Tensor(149.11612, shape=(), dtype=float32)\n",
      "Training starts for epoch number 20\n",
      "Training Loss is :  tf.Tensor(144.6514, shape=(), dtype=float32)\n",
      "Trining Complete!!!\n"
     ]
    }
   ],
   "source": [
    "custom_learn(EPOCHS)"
   ]
  },
  {
   "cell_type": "markdown",
   "metadata": {},
   "source": [
    "## Overriding train_step method"
   ]
  },
  {
   "cell_type": "code",
   "execution_count": null,
   "metadata": {},
   "outputs": [],
   "source": []
  },
  {
   "cell_type": "code",
   "execution_count": null,
   "metadata": {},
   "outputs": [],
   "source": []
  }
 ],
 "metadata": {
  "kernelspec": {
   "display_name": "tf_new",
   "language": "python",
   "name": "python3"
  },
  "language_info": {
   "codemirror_mode": {
    "name": "ipython",
    "version": 3
   },
   "file_extension": ".py",
   "mimetype": "text/x-python",
   "name": "python",
   "nbconvert_exporter": "python",
   "pygments_lexer": "ipython3",
   "version": "3.8.20"
  }
 },
 "nbformat": 4,
 "nbformat_minor": 2
}
